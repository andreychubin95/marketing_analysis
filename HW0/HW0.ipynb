{
 "cells": [
  {
   "cell_type": "code",
   "execution_count": 18,
   "id": "1c1ee416-df48-4e65-979e-7a9e74e177b1",
   "metadata": {},
   "outputs": [],
   "source": [
    "import numpy as np\n",
    "import pandas as pd\n",
    "from scipy.stats import mannwhitneyu, bootstrap, ttest_ind"
   ]
  },
  {
   "cell_type": "code",
   "execution_count": 81,
   "id": "e4e38956-6682-4226-81ae-b84ca283f4dd",
   "metadata": {},
   "outputs": [],
   "source": [
    "data = pd.read_csv('kinopoisk_rating.csv', sep=';')"
   ]
  },
  {
   "cell_type": "code",
   "execution_count": 3,
   "id": "9c1d4c5b-1f8f-41c4-b44e-9a1a3076b01a",
   "metadata": {},
   "outputs": [
    {
     "data": {
      "text/plain": [
       "num             int64\n",
       "name_rus       object\n",
       "rating_new    float64\n",
       "origin         object\n",
       "genre          object\n",
       "rating_old    float64\n",
       "qty_views       int64\n",
       "dtype: object"
      ]
     },
     "execution_count": 3,
     "metadata": {},
     "output_type": "execute_result"
    }
   ],
   "source": [
    "data.dtypes"
   ]
  },
  {
   "cell_type": "code",
   "execution_count": 4,
   "id": "e2470928-e973-4ba2-a156-d6d006bf034e",
   "metadata": {},
   "outputs": [
    {
     "data": {
      "text/plain": [
       "250"
      ]
     },
     "execution_count": 4,
     "metadata": {},
     "output_type": "execute_result"
    }
   ],
   "source": [
    "len(data)"
   ]
  },
  {
   "cell_type": "code",
   "execution_count": 5,
   "id": "625b88f4-61c4-47ea-a65b-f48d65f9ffa4",
   "metadata": {},
   "outputs": [
    {
     "data": {
      "text/html": [
       "<div>\n",
       "<style scoped>\n",
       "    .dataframe tbody tr th:only-of-type {\n",
       "        vertical-align: middle;\n",
       "    }\n",
       "\n",
       "    .dataframe tbody tr th {\n",
       "        vertical-align: top;\n",
       "    }\n",
       "\n",
       "    .dataframe thead th {\n",
       "        text-align: right;\n",
       "    }\n",
       "</style>\n",
       "<table border=\"1\" class=\"dataframe\">\n",
       "  <thead>\n",
       "    <tr style=\"text-align: right;\">\n",
       "      <th></th>\n",
       "      <th>num</th>\n",
       "      <th>name_rus</th>\n",
       "      <th>rating_new</th>\n",
       "      <th>origin</th>\n",
       "      <th>genre</th>\n",
       "      <th>rating_old</th>\n",
       "      <th>qty_views</th>\n",
       "    </tr>\n",
       "  </thead>\n",
       "  <tbody>\n",
       "    <tr>\n",
       "      <th>0</th>\n",
       "      <td>1</td>\n",
       "      <td>Зеленая миля</td>\n",
       "      <td>9.1</td>\n",
       "      <td>США</td>\n",
       "      <td>фэнтези/ драма</td>\n",
       "      <td>8.9</td>\n",
       "      <td>692418</td>\n",
       "    </tr>\n",
       "    <tr>\n",
       "      <th>1</th>\n",
       "      <td>2</td>\n",
       "      <td>Побег из Шоушенка</td>\n",
       "      <td>9.1</td>\n",
       "      <td>США</td>\n",
       "      <td>драма</td>\n",
       "      <td>8.9</td>\n",
       "      <td>784326</td>\n",
       "    </tr>\n",
       "    <tr>\n",
       "      <th>2</th>\n",
       "      <td>3</td>\n",
       "      <td>Властелин колец: Возвращение короля</td>\n",
       "      <td>8.6</td>\n",
       "      <td>Новая Зеландия/ США</td>\n",
       "      <td>фэнтези/ приключения</td>\n",
       "      <td>8.8</td>\n",
       "      <td>481829</td>\n",
       "    </tr>\n",
       "    <tr>\n",
       "      <th>3</th>\n",
       "      <td>4</td>\n",
       "      <td>Властелин колец: Две крепости</td>\n",
       "      <td>8.6</td>\n",
       "      <td>Новая Зеландия/ США</td>\n",
       "      <td>фэнтези/ приключения</td>\n",
       "      <td>8.8</td>\n",
       "      <td>467607</td>\n",
       "    </tr>\n",
       "    <tr>\n",
       "      <th>4</th>\n",
       "      <td>5</td>\n",
       "      <td>Властелин колец: Братство Кольца</td>\n",
       "      <td>8.6</td>\n",
       "      <td>Новая Зеландия/ США</td>\n",
       "      <td>фэнтези/ приключения</td>\n",
       "      <td>8.8</td>\n",
       "      <td>516856</td>\n",
       "    </tr>\n",
       "  </tbody>\n",
       "</table>\n",
       "</div>"
      ],
      "text/plain": [
       "   num                             name_rus  rating_new               origin  \\\n",
       "0    1                         Зеленая миля         9.1                  США   \n",
       "1    2                    Побег из Шоушенка         9.1                  США   \n",
       "2    3  Властелин колец: Возвращение короля         8.6  Новая Зеландия/ США   \n",
       "3    4        Властелин колец: Две крепости         8.6  Новая Зеландия/ США   \n",
       "4    5     Властелин колец: Братство Кольца         8.6  Новая Зеландия/ США   \n",
       "\n",
       "                  genre  rating_old  qty_views  \n",
       "0        фэнтези/ драма         8.9     692418  \n",
       "1                 драма         8.9     784326  \n",
       "2  фэнтези/ приключения         8.8     481829  \n",
       "3  фэнтези/ приключения         8.8     467607  \n",
       "4  фэнтези/ приключения         8.8     516856  "
      ]
     },
     "execution_count": 5,
     "metadata": {},
     "output_type": "execute_result"
    }
   ],
   "source": [
    "data.head()"
   ]
  },
  {
   "cell_type": "code",
   "execution_count": 6,
   "id": "c9d6133a-24ee-40ac-9d3d-b27343d200de",
   "metadata": {},
   "outputs": [
    {
     "data": {
      "text/plain": [
       "num           0\n",
       "name_rus      0\n",
       "rating_new    0\n",
       "origin        0\n",
       "genre         0\n",
       "rating_old    0\n",
       "qty_views     0\n",
       "dtype: int64"
      ]
     },
     "execution_count": 6,
     "metadata": {},
     "output_type": "execute_result"
    }
   ],
   "source": [
    "data.isna().sum()"
   ]
  },
  {
   "cell_type": "code",
   "execution_count": 7,
   "id": "83348992-597b-44df-b2a1-90ce9333db41",
   "metadata": {},
   "outputs": [],
   "source": [
    "r_new = data.rating_new.values\n",
    "r_old = data.rating_old.values"
   ]
  },
  {
   "cell_type": "markdown",
   "id": "1ad1eaaf-66bb-4d15-b265-2934d491f2de",
   "metadata": {},
   "source": [
    "### Mann-Whitney U-test (All)"
   ]
  },
  {
   "cell_type": "code",
   "execution_count": 57,
   "id": "e2fdcbb7-018d-4b05-8cd6-ddc43a100a2e",
   "metadata": {},
   "outputs": [],
   "source": [
    "alpha = 0.05"
   ]
  },
  {
   "cell_type": "code",
   "execution_count": 8,
   "id": "b801458b-81b2-46df-935f-b214a664abbc",
   "metadata": {},
   "outputs": [],
   "source": [
    "U1, p = mannwhitneyu(\n",
    "    x=r_old,\n",
    "    y=r_new,\n",
    "    alternative='two-sided',\n",
    "    method='exact'\n",
    ")"
   ]
  },
  {
   "cell_type": "code",
   "execution_count": 15,
   "id": "2f557cdf-9ae2-4427-a039-117c47060627",
   "metadata": {},
   "outputs": [
    {
     "data": {
      "text/plain": [
       "True"
      ]
     },
     "execution_count": 15,
     "metadata": {},
     "output_type": "execute_result"
    }
   ],
   "source": [
    "1-p < alpha"
   ]
  },
  {
   "cell_type": "code",
   "execution_count": 16,
   "id": "66241811-d7b0-4715-bc1f-5e1f8549222e",
   "metadata": {},
   "outputs": [
    {
     "data": {
      "text/plain": [
       "0.036259213631644194"
      ]
     },
     "execution_count": 16,
     "metadata": {},
     "output_type": "execute_result"
    }
   ],
   "source": [
    "1-p"
   ]
  },
  {
   "cell_type": "markdown",
   "id": "9a6038ae-fcb4-4e2b-80e3-dd94dbd46b76",
   "metadata": {},
   "source": [
    "=> the p-value is low enough to reject the null hypothesis"
   ]
  },
  {
   "cell_type": "markdown",
   "id": "5aaa13ee-cbba-467e-b76e-28f5f60d0551",
   "metadata": {},
   "source": [
    "### Bootstrap (All)"
   ]
  },
  {
   "cell_type": "code",
   "execution_count": 61,
   "id": "573e372e-51ce-40ef-b5e6-2f9f604874ac",
   "metadata": {},
   "outputs": [
    {
     "name": "stdout",
     "output_type": "stream",
     "text": [
      "Old: \n",
      "Mean: 8.179599999999999\n"
     ]
    }
   ],
   "source": [
    "print('Old: ')\n",
    "print(f'Mean: {np.mean(r_old)}')"
   ]
  },
  {
   "cell_type": "code",
   "execution_count": 62,
   "id": "b30d539f-8172-40f8-bb1c-4f465f1106c0",
   "metadata": {},
   "outputs": [
    {
     "name": "stdout",
     "output_type": "stream",
     "text": [
      "New: \n",
      "Mean: 8.1844\n"
     ]
    }
   ],
   "source": [
    "print('New: ')\n",
    "print(f'Mean: {np.mean(r_new)}')"
   ]
  },
  {
   "cell_type": "code",
   "execution_count": 47,
   "id": "264f223c-fd22-4e15-8cf2-82ba4e871fa5",
   "metadata": {},
   "outputs": [],
   "source": [
    "r_all = np.concatenate((r_new, r_old))"
   ]
  },
  {
   "cell_type": "code",
   "execution_count": 58,
   "id": "38c9e993-ebcd-4825-a983-0ee455087780",
   "metadata": {},
   "outputs": [],
   "source": [
    "res_mean = bootstrap(\n",
    "    data=(r_old,),\n",
    "    statistic=np.mean,\n",
    "    n_resamples=1000,\n",
    "    confidence_level=1-alpha\n",
    ")"
   ]
  },
  {
   "cell_type": "code",
   "execution_count": 59,
   "id": "806f81a6-5360-410d-9a9a-082aabb10591",
   "metadata": {},
   "outputs": [
    {
     "data": {
      "text/plain": [
       "BootstrapResult(confidence_interval=ConfidenceInterval(low=8.158, high=8.204088524785561), standard_error=0.012010796817871847)"
      ]
     },
     "execution_count": 59,
     "metadata": {},
     "output_type": "execute_result"
    }
   ],
   "source": [
    "res_mean.confidence_interval"
   ]
  },
  {
   "cell_type": "code",
   "execution_count": 63,
   "id": "6b7df356-b1e4-4b11-8cd5-d58abc2b8acf",
   "metadata": {},
   "outputs": [
    {
     "data": {
      "text/plain": [
       "False"
      ]
     },
     "execution_count": 63,
     "metadata": {},
     "output_type": "execute_result"
    }
   ],
   "source": [
    "low = res_mean.confidence_interval.low\n",
    "high = res_mean.confidence_interval.high\n",
    "\n",
    "(low > np.mean(r_new)) or (np.mean(r_new) > high)"
   ]
  },
  {
   "cell_type": "markdown",
   "id": "ee411ea9-7883-4425-bbf3-7515b7b899bb",
   "metadata": {},
   "source": [
    "=> the mean of new rating lies within confidence interval, therefore we can not reject the null hypothesis"
   ]
  },
  {
   "cell_type": "markdown",
   "id": "f1e9c838-ed75-4488-830c-fc833d655eb5",
   "metadata": {},
   "source": [
    "### Genres"
   ]
  },
  {
   "cell_type": "code",
   "execution_count": 82,
   "id": "695958f3-af7d-4423-a04e-09be692c90a8",
   "metadata": {},
   "outputs": [
    {
     "data": {
      "text/plain": [
       "76"
      ]
     },
     "execution_count": 82,
     "metadata": {},
     "output_type": "execute_result"
    }
   ],
   "source": [
    "len(data.genre.unique())"
   ]
  },
  {
   "cell_type": "code",
   "execution_count": 83,
   "id": "fdebdfbf-af90-4897-b570-5dd0889f180a",
   "metadata": {},
   "outputs": [],
   "source": [
    "all_genres = list(data.genre.unique())\n",
    "\n",
    "processed_genres = []\n",
    "\n",
    "for x in all_genres:\n",
    "    genres = x.split('/ ')\n",
    "    processed_genres += genres\n",
    "    \n",
    "processed_genres = list(set(processed_genres))"
   ]
  },
  {
   "cell_type": "code",
   "execution_count": 84,
   "id": "3ec08738-2255-4873-bbbd-29b279e431b6",
   "metadata": {},
   "outputs": [
    {
     "data": {
      "text/plain": [
       "21"
      ]
     },
     "execution_count": 84,
     "metadata": {},
     "output_type": "execute_result"
    }
   ],
   "source": [
    "len(processed_genres)"
   ]
  },
  {
   "cell_type": "markdown",
   "id": "dbe1cbe0-5db0-4323-910f-08089c7626d9",
   "metadata": {},
   "source": [
    "### Mann-Whitney U-test (Genre)"
   ]
  },
  {
   "cell_type": "code",
   "execution_count": 85,
   "id": "e4aa5381-3aac-4be9-bc2c-d18b6d3c2350",
   "metadata": {},
   "outputs": [
    {
     "name": "stdout",
     "output_type": "stream",
     "text": [
      "Genre: детектив\n",
      "Result: cannot reject the null hypothesis\n",
      "p-value is: 0.7588\n",
      "-----------------------------------------------\n",
      "Genre: спорт\n",
      "Result: cannot reject the null hypothesis\n",
      "p-value is: 0.3577\n",
      "-----------------------------------------------\n",
      "Genre: комедия\n",
      "Result: cannot reject the null hypothesis\n",
      "p-value is: 0.7895\n",
      "-----------------------------------------------\n",
      "Genre: фэнтези\n",
      "Result: cannot reject the null hypothesis\n",
      "p-value is: 0.877\n",
      "-----------------------------------------------\n",
      "Genre: вестерн\n",
      "Result: reject the null hypothesis\n",
      "p-value is: 0.0\n",
      "-----------------------------------------------\n",
      "Genre: криминал\n",
      "Result: cannot reject the null hypothesis\n",
      "p-value is: 0.7212\n",
      "-----------------------------------------------\n",
      "Genre: биография\n",
      "Result: cannot reject the null hypothesis\n",
      "p-value is: 0.248\n",
      "-----------------------------------------------\n",
      "Genre: мюзикл\n",
      "Result: cannot reject the null hypothesis\n",
      "p-value is: 0.2511\n",
      "-----------------------------------------------\n",
      "Genre: фантастика\n",
      "Result: cannot reject the null hypothesis\n",
      "p-value is: 0.8806\n",
      "-----------------------------------------------\n",
      "Genre: приключения\n",
      "Result: cannot reject the null hypothesis\n",
      "p-value is: 0.6337\n",
      "-----------------------------------------------\n",
      "Genre: семейный\n",
      "Result: reject the null hypothesis\n",
      "p-value is: 0.0\n",
      "-----------------------------------------------\n",
      "Genre: история\n",
      "Result: cannot reject the null hypothesis\n",
      "p-value is: 0.5995\n",
      "-----------------------------------------------\n",
      "Genre: аниме\n",
      "Result: cannot reject the null hypothesis\n",
      "p-value is: 0.379\n",
      "-----------------------------------------------\n",
      "Genre: военный\n",
      "Result: cannot reject the null hypothesis\n",
      "p-value is: 0.8926\n",
      "-----------------------------------------------\n",
      "Genre: ужасы\n",
      "Result: reject the null hypothesis\n",
      "p-value is: 0.0\n",
      "-----------------------------------------------\n",
      "Genre: мультфильм\n",
      "Result: cannot reject the null hypothesis\n",
      "p-value is: 0.8523\n",
      "-----------------------------------------------\n",
      "Genre: музыка\n",
      "Result: reject the null hypothesis\n",
      "p-value is: 0.0\n",
      "-----------------------------------------------\n",
      "Genre: мелодрама\n",
      "Result: cannot reject the null hypothesis\n",
      "p-value is: 0.8449\n",
      "-----------------------------------------------\n",
      "Genre: боевик\n",
      "Result: cannot reject the null hypothesis\n",
      "p-value is: 0.9841\n",
      "-----------------------------------------------\n",
      "Genre: триллер\n",
      "Result: cannot reject the null hypothesis\n",
      "p-value is: 0.2352\n",
      "-----------------------------------------------\n",
      "Genre: драма\n",
      "Result: cannot reject the null hypothesis\n",
      "p-value is: 0.9109\n",
      "-----------------------------------------------\n"
     ]
    }
   ],
   "source": [
    "for genre in processed_genres:\n",
    "    print(f'Genre: {genre}')\n",
    "    subsample = data[data.genre.str.contains(genre)].copy()\n",
    "    \n",
    "    r_new_genre = subsample.rating_new.values\n",
    "    r_old_genre = subsample.rating_old.values\n",
    "    \n",
    "    _, p_genre = mannwhitneyu(\n",
    "        x=r_old_genre,\n",
    "        y=r_new_genre,\n",
    "        alternative='two-sided',\n",
    "        method='auto' # too long to wait for exact sometimes\n",
    "    )\n",
    "    \n",
    "    if 1-p_genre < alpha:\n",
    "        print('Result: reject the null hypothesis')\n",
    "    else:\n",
    "        print('Result: cannot reject the null hypothesis')\n",
    "    print(f'p-value is: {round(1-p_genre, 4)}')\n",
    "    print('-----------------------------------------------')"
   ]
  },
  {
   "cell_type": "markdown",
   "id": "2f7f69e0-ef70-43ce-b867-ca41224a4b27",
   "metadata": {},
   "source": [
    "### Bootstrap (Genre)"
   ]
  },
  {
   "cell_type": "code",
   "execution_count": 86,
   "id": "1220898a-c3ac-49a2-b476-b572ff3f1601",
   "metadata": {},
   "outputs": [
    {
     "name": "stdout",
     "output_type": "stream",
     "text": [
      "Genre: детектив\n",
      "Result: cannot reject the null hypothesis. Mean is within the confidence interval\n",
      "Confidence interval is: [8.1571; 8.4143]\n",
      "Mean of new ratings in детектив is 8.4143\n",
      "-----------------------------------------------\n",
      "Genre: спорт\n",
      "Result: cannot reject the null hypothesis. Mean is within the confidence interval\n",
      "Confidence interval is: [8.0; 8.3]\n",
      "Mean of new ratings in спорт is 8.15\n",
      "-----------------------------------------------\n",
      "Genre: комедия\n",
      "Result: reject the null hypothesis. Mean is outside of the confidence interval\n",
      "Confidence interval is: [8.16; 8.2775]\n",
      "Mean of new ratings in комедия is 8.2925\n",
      "-----------------------------------------------\n",
      "Genre: фэнтези\n",
      "Result: reject the null hypothesis. Mean is outside of the confidence interval\n",
      "Confidence interval is: [8.1553; 8.3114]\n",
      "Mean of new ratings in фэнтези is 8.1421\n",
      "-----------------------------------------------\n",
      "Genre: вестерн\n",
      "Result: cannot reject the null hypothesis. Mean is within the confidence interval\n",
      "Confidence interval is: [8.1; 8.3]\n",
      "Mean of new ratings in вестерн is 8.2\n",
      "-----------------------------------------------\n",
      "Genre: криминал\n",
      "Result: cannot reject the null hypothesis. Mean is within the confidence interval\n",
      "Confidence interval is: [8.1167; 8.2667]\n",
      "Mean of new ratings in криминал is 8.2583\n",
      "-----------------------------------------------\n",
      "Genre: биография\n",
      "Result: cannot reject the null hypothesis. Mean is within the confidence interval\n",
      "Confidence interval is: [8.08; 8.225]\n",
      "Mean of new ratings in биография is 8.14\n",
      "-----------------------------------------------\n",
      "Genre: мюзикл\n",
      "Result: cannot reject the null hypothesis. Mean is within the confidence interval\n",
      "Confidence interval is: [8.0375; 8.3251]\n",
      "Mean of new ratings in мюзикл is 8.0875\n",
      "-----------------------------------------------\n",
      "Genre: фантастика\n",
      "Result: reject the null hypothesis. Mean is outside of the confidence interval\n",
      "Confidence interval is: [8.1293; 8.2463]\n",
      "Mean of new ratings in фантастика is 8.1195\n",
      "-----------------------------------------------\n",
      "Genre: приключения\n",
      "Result: reject the null hypothesis. Mean is outside of the confidence interval\n",
      "Confidence interval is: [8.1395; 8.3619]\n",
      "Mean of new ratings in приключения is 8.1381\n",
      "-----------------------------------------------\n",
      "Genre: семейный\n",
      "Result: cannot reject the null hypothesis. Mean is within the confidence interval\n",
      "Confidence interval is: [8.0857; 8.4102]\n",
      "Mean of new ratings in семейный is 8.2143\n",
      "-----------------------------------------------\n",
      "Genre: история\n",
      "Result: cannot reject the null hypothesis. Mean is within the confidence interval\n",
      "Confidence interval is: [8.0857; 8.2286]\n",
      "Mean of new ratings in история is 8.2286\n",
      "-----------------------------------------------\n",
      "Genre: аниме\n",
      "Result: cannot reject the null hypothesis. Mean is within the confidence interval\n",
      "Confidence interval is: [8.0667; 8.2778]\n",
      "Mean of new ratings in аниме is 8.1889\n",
      "-----------------------------------------------\n",
      "Genre: военный\n",
      "Result: reject the null hypothesis. Mean is outside of the confidence interval\n",
      "Confidence interval is: [8.1231; 8.2769]\n",
      "Mean of new ratings in военный is 8.3385\n",
      "-----------------------------------------------\n",
      "Genre: ужасы\n",
      "Not enough observations!\n",
      "-----------------------------------------------\n",
      "Genre: мультфильм\n",
      "Result: reject the null hypothesis. Mean is outside of the confidence interval\n",
      "Confidence interval is: [8.1369; 8.2432]\n",
      "Mean of new ratings in мультфильм is 8.1217\n",
      "-----------------------------------------------\n",
      "Genre: музыка\n",
      "Result: cannot reject the null hypothesis. Mean is within the confidence interval\n",
      "Confidence interval is: [8.0; 8.3]\n",
      "Mean of new ratings in музыка is 8.15\n",
      "-----------------------------------------------\n",
      "Genre: мелодрама\n",
      "Result: reject the null hypothesis. Mean is outside of the confidence interval\n",
      "Confidence interval is: [8.0862; 8.1897]\n",
      "Mean of new ratings in мелодрама is 8.2034\n",
      "-----------------------------------------------\n",
      "Genre: боевик\n",
      "Result: reject the null hypothesis. Mean is outside of the confidence interval\n",
      "Confidence interval is: [8.1098; 8.2073]\n",
      "Mean of new ratings in боевик is 8.0756\n",
      "-----------------------------------------------\n",
      "Genre: триллер\n",
      "Result: cannot reject the null hypothesis. Mean is within the confidence interval\n",
      "Confidence interval is: [8.0773; 8.2091]\n",
      "Mean of new ratings in триллер is 8.1727\n",
      "-----------------------------------------------\n",
      "Genre: драма\n",
      "Result: reject the null hypothesis. Mean is outside of the confidence interval\n",
      "Confidence interval is: [8.1377; 8.2069]\n",
      "Mean of new ratings in драма is 8.2241\n",
      "-----------------------------------------------\n"
     ]
    }
   ],
   "source": [
    "for genre in processed_genres:\n",
    "    print(f'Genre: {genre}')\n",
    "    subsample = data[data.genre.str.contains(genre)].copy()\n",
    "    \n",
    "    r_new_genre = subsample.rating_new.values\n",
    "    r_old_genre = subsample.rating_old.values\n",
    "    \n",
    "    try:\n",
    "        res = bootstrap(\n",
    "            data=(r_old_genre,),\n",
    "            statistic=np.mean,\n",
    "            n_resamples=1000,\n",
    "            confidence_level=1-alpha\n",
    "        )\n",
    "\n",
    "        low = res.confidence_interval.low\n",
    "        high = res.confidence_interval.high\n",
    "        n_mean = np.mean(r_new_genre)\n",
    "\n",
    "        result = (low > n_mean) or (n_mean > high)\n",
    "\n",
    "        if result:\n",
    "            print('Result: reject the null hypothesis. Mean is outside of the confidence interval')\n",
    "        else:\n",
    "            print('Result: cannot reject the null hypothesis. Mean is within the confidence interval')\n",
    "        print(f'Confidence interval is: [{round(low, 4)}; {round(high, 4)}]')\n",
    "        print(f'Mean of new ratings in {genre} is {round(n_mean, 4)}')\n",
    "    \n",
    "    except ValueError:\n",
    "        print(f'Not enough observations!')\n",
    "        \n",
    "    print('-----------------------------------------------')"
   ]
  },
  {
   "cell_type": "markdown",
   "id": "42379929-cb38-4354-8637-812df95f895c",
   "metadata": {},
   "source": [
    "### Origin"
   ]
  },
  {
   "cell_type": "code",
   "execution_count": 89,
   "id": "8b05fb8c-e6ba-4a8e-b2f2-29e718c3dc30",
   "metadata": {},
   "outputs": [
    {
     "data": {
      "text/plain": [
       "45"
      ]
     },
     "execution_count": 89,
     "metadata": {},
     "output_type": "execute_result"
    }
   ],
   "source": [
    "len(data.origin.unique())"
   ]
  },
  {
   "cell_type": "code",
   "execution_count": 96,
   "id": "95c9d261-3c48-46c4-890b-e5cce5b13e80",
   "metadata": {},
   "outputs": [],
   "source": [
    "all_origins = list(data.origin.unique())\n",
    "\n",
    "processed_origins = []\n",
    "\n",
    "for x in all_origins:\n",
    "    origin = x.split('/ ')\n",
    "    processed_origins += origin\n",
    "    \n",
    "processed_origins = list(set(processed_origins))"
   ]
  },
  {
   "cell_type": "code",
   "execution_count": 97,
   "id": "e849a8c4-87b7-49b9-81e8-3f4a6ce5bd20",
   "metadata": {},
   "outputs": [
    {
     "data": {
      "text/plain": [
       "27"
      ]
     },
     "execution_count": 97,
     "metadata": {},
     "output_type": "execute_result"
    }
   ],
   "source": [
    "len(processed_origins)"
   ]
  },
  {
   "cell_type": "markdown",
   "id": "83fe9549-ce2f-44d4-805a-355fb2da7ab8",
   "metadata": {},
   "source": [
    "### Mann-Whitney U-test (Origin)"
   ]
  },
  {
   "cell_type": "code",
   "execution_count": 98,
   "id": "8388b80d-8e5c-41f9-a370-9b4d3348fe1f",
   "metadata": {},
   "outputs": [
    {
     "name": "stdout",
     "output_type": "stream",
     "text": [
      "Origin: Люксембург\n",
      "Result: reject the null hypothesis\n",
      "p-value is: 0.0\n",
      "-----------------------------------------------\n",
      "Origin: Австралия\n",
      "Result: cannot reject the null hypothesis\n",
      "p-value is: 0.4934\n",
      "-----------------------------------------------\n",
      "Origin: Беларусь\n",
      "Result: reject the null hypothesis\n",
      "p-value is: 0.0\n",
      "-----------------------------------------------\n",
      "Origin: Мексика\n",
      "Result: reject the null hypothesis\n",
      "p-value is: 0.0\n",
      "-----------------------------------------------\n",
      "Origin: Италия\n",
      "Result: cannot reject the null hypothesis\n",
      "p-value is: 0.8903\n",
      "-----------------------------------------------\n",
      "Origin: Франция\n",
      "Result: cannot reject the null hypothesis\n",
      "p-value is: 0.147\n",
      "-----------------------------------------------\n",
      "Origin: Япония\n",
      "Result: cannot reject the null hypothesis\n",
      "p-value is: 0.3615\n",
      "-----------------------------------------------\n",
      "Origin: Китай\n",
      "Result: reject the null hypothesis\n",
      "p-value is: 0.0\n",
      "-----------------------------------------------\n",
      "Origin: Бельгия\n",
      "Result: reject the null hypothesis\n",
      "p-value is: 0.0\n",
      "-----------------------------------------------\n",
      "Origin: Ливан\n",
      "Result: reject the null hypothesis\n",
      "p-value is: 0.0\n",
      "-----------------------------------------------\n",
      "Origin: Испания\n",
      "Result: reject the null hypothesis\n",
      "p-value is: 0.0\n",
      "-----------------------------------------------\n",
      "Origin: Канада\n",
      "Result: cannot reject the null hypothesis\n",
      "p-value is: 0.4444\n",
      "-----------------------------------------------\n",
      "Origin: Бразилия\n",
      "Result: reject the null hypothesis\n",
      "p-value is: 0.0\n",
      "-----------------------------------------------\n",
      "Origin: Польша\n",
      "Result: reject the null hypothesis\n",
      "p-value is: 0.0\n",
      "-----------------------------------------------\n",
      "Origin: Гонконг\n",
      "Result: cannot reject the null hypothesis\n",
      "p-value is: 0.8061\n",
      "-----------------------------------------------\n",
      "Origin: Великобритания\n",
      "Result: cannot reject the null hypothesis\n",
      "p-value is: 0.4216\n",
      "-----------------------------------------------\n",
      "Origin: США\n",
      "Result: cannot reject the null hypothesis\n",
      "p-value is: 0.8539\n",
      "-----------------------------------------------\n",
      "Origin: Мальта\n",
      "Result: reject the null hypothesis\n",
      "p-value is: 0.0\n",
      "-----------------------------------------------\n",
      "Origin: СССР\n",
      "Result: cannot reject the null hypothesis\n",
      "p-value is: 0.9926\n",
      "-----------------------------------------------\n",
      "Origin: Югославия\n",
      "Result: reject the null hypothesis\n",
      "p-value is: 0.0\n",
      "-----------------------------------------------\n",
      "Origin: Россия\n",
      "Result: cannot reject the null hypothesis\n",
      "p-value is: 0.3191\n",
      "-----------------------------------------------\n",
      "Origin: Германия\n",
      "Result: cannot reject the null hypothesis\n",
      "p-value is: 0.1698\n",
      "-----------------------------------------------\n",
      "Origin: Ирландия\n",
      "Result: cannot reject the null hypothesis\n",
      "p-value is: 0.3829\n",
      "-----------------------------------------------\n",
      "Origin: Корея Южная\n",
      "Result: reject the null hypothesis\n",
      "p-value is: 0.0\n",
      "-----------------------------------------------\n",
      "Origin: Дания\n",
      "Result: reject the null hypothesis\n",
      "p-value is: 0.0\n",
      "-----------------------------------------------\n",
      "Origin: Новая Зеландия\n",
      "Result: cannot reject the null hypothesis\n",
      "p-value is: 0.6724\n",
      "-----------------------------------------------\n",
      "Origin: Швеция\n",
      "Result: reject the null hypothesis\n",
      "p-value is: 0.0\n",
      "-----------------------------------------------\n"
     ]
    }
   ],
   "source": [
    "for origin in processed_origins:\n",
    "    print(f'Origin: {origin}')\n",
    "    subsample = data[data.origin.str.contains(origin)].copy()\n",
    "    \n",
    "    r_new_origin = subsample.rating_new.values\n",
    "    r_old_origin = subsample.rating_old.values\n",
    "    \n",
    "    try:\n",
    "        _, p_origin = mannwhitneyu(\n",
    "            x=r_old_origin,\n",
    "            y=r_new_origin,\n",
    "            alternative='two-sided',\n",
    "            method='auto' # too long to wait for exact sometimes\n",
    "        )\n",
    "\n",
    "        if 1-p_origin < alpha:\n",
    "            print('Result: reject the null hypothesis')\n",
    "        else:\n",
    "            print('Result: cannot reject the null hypothesis')\n",
    "        print(f'p-value is: {round(1-p_origin, 4)}')\n",
    "        \n",
    "    except ValueError:\n",
    "        print('Not enough observations!')\n",
    "        \n",
    "    print('-----------------------------------------------')"
   ]
  },
  {
   "cell_type": "markdown",
   "id": "1933fe6f-79e1-4308-84cf-5c84d6f65351",
   "metadata": {},
   "source": [
    "### Bootstrap (Genre)"
   ]
  },
  {
   "cell_type": "code",
   "execution_count": 99,
   "id": "d5d702f6-7706-4f42-842f-ea38ade378e7",
   "metadata": {},
   "outputs": [
    {
     "name": "stdout",
     "output_type": "stream",
     "text": [
      "Origin: Люксембург\n",
      "Not enough observations!\n",
      "-----------------------------------------------\n",
      "Origin: Австралия\n",
      "Result: cannot reject the null hypothesis. Mean is within the confidence interval\n",
      "Confidence interval is: [8.0; 8.4667]\n",
      "Mean of new ratings in Австралия is 8.1333\n",
      "-----------------------------------------------\n",
      "Origin: Беларусь\n",
      "Not enough observations!\n",
      "-----------------------------------------------\n",
      "Origin: Мексика\n",
      "Result: reject the null hypothesis. Mean is outside of the confidence interval\n",
      "Confidence interval is: [8.0; 8.15]\n",
      "Mean of new ratings in Мексика is 8.2\n",
      "-----------------------------------------------\n",
      "Origin: Италия\n",
      "Result: reject the null hypothesis. Mean is outside of the confidence interval\n",
      "Confidence interval is: [8.0; 8.1714]\n",
      "Mean of new ratings in Италия is 8.2857\n",
      "-----------------------------------------------\n",
      "Origin: Франция\n",
      "Result: cannot reject the null hypothesis. Mean is within the confidence interval\n",
      "Confidence interval is: [8.0692; 8.2231]\n",
      "Mean of new ratings in Франция is 8.1846\n",
      "-----------------------------------------------\n",
      "Origin: Япония\n",
      "Result: cannot reject the null hypothesis. Mean is within the confidence interval\n",
      "Confidence interval is: [8.0917; 8.2667]\n",
      "Mean of new ratings in Япония is 8.1333\n",
      "-----------------------------------------------\n",
      "Origin: Китай\n",
      "Result: cannot reject the null hypothesis. Mean is within the confidence interval\n",
      "Confidence interval is: [8.0; 8.15]\n",
      "Mean of new ratings in Китай is 8.1\n",
      "-----------------------------------------------\n",
      "Origin: Бельгия\n",
      "Not enough observations!\n",
      "-----------------------------------------------\n",
      "Origin: Ливан\n",
      "Not enough observations!\n",
      "-----------------------------------------------\n",
      "Origin: Испания\n",
      "Result: cannot reject the null hypothesis. Mean is within the confidence interval\n",
      "Confidence interval is: [8.1; 8.6]\n",
      "Mean of new ratings in Испания is 8.55\n",
      "-----------------------------------------------\n",
      "Origin: Канада\n",
      "Result: cannot reject the null hypothesis. Mean is within the confidence interval\n",
      "Confidence interval is: [8.0625; 8.3375]\n",
      "Mean of new ratings in Канада is 8.15\n",
      "-----------------------------------------------\n",
      "Origin: Бразилия\n",
      "Not enough observations!\n",
      "-----------------------------------------------\n",
      "Origin: Польша\n",
      "Not enough observations!\n",
      "-----------------------------------------------\n",
      "Origin: Гонконг\n",
      "Not enough observations!\n",
      "-----------------------------------------------\n",
      "Origin: Великобритания\n",
      "Result: cannot reject the null hypothesis. Mean is within the confidence interval\n",
      "Confidence interval is: [8.1029; 8.2324]\n",
      "Mean of new ratings in Великобритания is 8.1588\n",
      "-----------------------------------------------\n",
      "Origin: США\n",
      "Result: cannot reject the null hypothesis. Mean is within the confidence interval\n",
      "Confidence interval is: [8.1506; 8.2103]\n",
      "Mean of new ratings in США is 8.1546\n",
      "-----------------------------------------------\n",
      "Origin: Мальта\n",
      "Not enough observations!\n",
      "-----------------------------------------------\n",
      "Origin: СССР\n",
      "Result: reject the null hypothesis. Mean is outside of the confidence interval\n",
      "Confidence interval is: [8.1774; 8.3]\n",
      "Mean of new ratings in СССР is 8.3774\n",
      "-----------------------------------------------\n",
      "Origin: Югославия\n",
      "Not enough observations!\n",
      "-----------------------------------------------\n",
      "Origin: Россия\n",
      "Result: cannot reject the null hypothesis. Mean is within the confidence interval\n",
      "Confidence interval is: [8.0333; 8.2667]\n",
      "Mean of new ratings in Россия is 8.0833\n",
      "-----------------------------------------------\n",
      "Origin: Германия\n",
      "Result: cannot reject the null hypothesis. Mean is within the confidence interval\n",
      "Confidence interval is: [8.04; 8.18]\n",
      "Mean of new ratings in Германия is 8.0867\n",
      "-----------------------------------------------\n",
      "Origin: Ирландия\n",
      "Not enough observations!\n",
      "-----------------------------------------------\n",
      "Origin: Корея Южная\n",
      "Result: reject the null hypothesis. Mean is outside of the confidence interval\n",
      "Confidence interval is: [8.0; 8.1]\n",
      "Mean of new ratings in Корея Южная is 8.15\n",
      "-----------------------------------------------\n",
      "Origin: Дания\n",
      "Not enough observations!\n",
      "-----------------------------------------------\n",
      "Origin: Новая Зеландия\n",
      "Result: cannot reject the null hypothesis. Mean is within the confidence interval\n",
      "Confidence interval is: [8.1525; 8.6143]\n",
      "Mean of new ratings in Новая Зеландия is 8.2571\n",
      "-----------------------------------------------\n",
      "Origin: Швеция\n",
      "Not enough observations!\n",
      "-----------------------------------------------\n"
     ]
    }
   ],
   "source": [
    "for origin in processed_origins:\n",
    "    print(f'Origin: {origin}')\n",
    "    subsample = data[data.origin.str.contains(origin)].copy()\n",
    "    \n",
    "    r_new_origin = subsample.rating_new.values\n",
    "    r_old_origin = subsample.rating_old.values\n",
    "    \n",
    "    try:\n",
    "        res = bootstrap(\n",
    "            data=(r_old_origin,),\n",
    "            statistic=np.mean,\n",
    "            n_resamples=1000,\n",
    "            confidence_level=1-alpha\n",
    "        )\n",
    "\n",
    "        low = res.confidence_interval.low\n",
    "        high = res.confidence_interval.high\n",
    "        n_mean = np.mean(r_new_origin)\n",
    "\n",
    "        result = (low > n_mean) or (n_mean > high)\n",
    "\n",
    "        if result:\n",
    "            print('Result: reject the null hypothesis. Mean is outside of the confidence interval')\n",
    "        else:\n",
    "            print('Result: cannot reject the null hypothesis. Mean is within the confidence interval')\n",
    "        print(f'Confidence interval is: [{round(low, 4)}; {round(high, 4)}]')\n",
    "        print(f'Mean of new ratings in {origin} is {round(n_mean, 4)}')\n",
    "    \n",
    "    except ValueError:\n",
    "        print(f'Not enough observations!')\n",
    "        \n",
    "    print('-----------------------------------------------')"
   ]
  },
  {
   "cell_type": "code",
   "execution_count": null,
   "id": "2a03dd93-6bbc-49a0-8366-3a2b14f5e6a1",
   "metadata": {},
   "outputs": [],
   "source": []
  }
 ],
 "metadata": {
  "kernelspec": {
   "display_name": "Python [conda env:ml] *",
   "language": "python",
   "name": "conda-env-ml-py"
  },
  "language_info": {
   "codemirror_mode": {
    "name": "ipython",
    "version": 3
   },
   "file_extension": ".py",
   "mimetype": "text/x-python",
   "name": "python",
   "nbconvert_exporter": "python",
   "pygments_lexer": "ipython3",
   "version": "3.9.6"
  }
 },
 "nbformat": 4,
 "nbformat_minor": 5
}
